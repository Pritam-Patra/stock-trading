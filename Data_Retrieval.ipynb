{
 "cells": [
  {
   "cell_type": "code",
   "execution_count": 3,
   "id": "7e33cbd6-2cf4-4ecf-a9b9-fb79a2ddf019",
   "metadata": {},
   "outputs": [],
   "source": [
    "import pandas as pd\n",
    "import matplotlib.pyplot as plt\n",
    "from datetime import datetime\n",
    "plt.style.use('seaborn')\n",
    "import yfinance as yf"
   ]
  },
  {
   "cell_type": "code",
   "execution_count": 4,
   "id": "c8b1d1e0-a505-4bbb-b63f-4fafec044293",
   "metadata": {},
   "outputs": [],
   "source": [
    "voo = yf.Ticker('VOO')"
   ]
  },
  {
   "cell_type": "code",
   "execution_count": 12,
   "id": "52e95eb9-8f5e-42d2-b7fc-0f0d12986870",
   "metadata": {},
   "outputs": [],
   "source": [
    "voo_df = voo.history(start='2016-11-19', end='2021-11-19', interval='1d')"
   ]
  },
  {
   "cell_type": "code",
   "execution_count": 13,
   "id": "c874e554-dabb-4ad1-8cb6-833a7034c6ae",
   "metadata": {},
   "outputs": [
    {
     "data": {
      "text/html": [
       "<div>\n",
       "<style scoped>\n",
       "    .dataframe tbody tr th:only-of-type {\n",
       "        vertical-align: middle;\n",
       "    }\n",
       "\n",
       "    .dataframe tbody tr th {\n",
       "        vertical-align: top;\n",
       "    }\n",
       "\n",
       "    .dataframe thead th {\n",
       "        text-align: right;\n",
       "    }\n",
       "</style>\n",
       "<table border=\"1\" class=\"dataframe\">\n",
       "  <thead>\n",
       "    <tr style=\"text-align: right;\">\n",
       "      <th></th>\n",
       "      <th>Open</th>\n",
       "      <th>High</th>\n",
       "      <th>Low</th>\n",
       "      <th>Close</th>\n",
       "      <th>Volume</th>\n",
       "      <th>Dividends</th>\n",
       "      <th>Stock Splits</th>\n",
       "    </tr>\n",
       "    <tr>\n",
       "      <th>Date</th>\n",
       "      <th></th>\n",
       "      <th></th>\n",
       "      <th></th>\n",
       "      <th></th>\n",
       "      <th></th>\n",
       "      <th></th>\n",
       "      <th></th>\n",
       "    </tr>\n",
       "  </thead>\n",
       "  <tbody>\n",
       "    <tr>\n",
       "      <th>2016-11-21</th>\n",
       "      <td>183.339916</td>\n",
       "      <td>184.187145</td>\n",
       "      <td>183.212376</td>\n",
       "      <td>184.150711</td>\n",
       "      <td>2641300</td>\n",
       "      <td>0.0</td>\n",
       "      <td>0</td>\n",
       "    </tr>\n",
       "    <tr>\n",
       "      <th>2016-11-22</th>\n",
       "      <td>184.551524</td>\n",
       "      <td>184.688170</td>\n",
       "      <td>183.813612</td>\n",
       "      <td>184.487747</td>\n",
       "      <td>2773400</td>\n",
       "      <td>0.0</td>\n",
       "      <td>0</td>\n",
       "    </tr>\n",
       "    <tr>\n",
       "      <th>2016-11-23</th>\n",
       "      <td>184.150708</td>\n",
       "      <td>184.669988</td>\n",
       "      <td>183.813640</td>\n",
       "      <td>184.651764</td>\n",
       "      <td>1466300</td>\n",
       "      <td>0.0</td>\n",
       "      <td>0</td>\n",
       "    </tr>\n",
       "    <tr>\n",
       "      <th>2016-11-25</th>\n",
       "      <td>185.007089</td>\n",
       "      <td>185.389709</td>\n",
       "      <td>184.897772</td>\n",
       "      <td>185.389709</td>\n",
       "      <td>1843100</td>\n",
       "      <td>0.0</td>\n",
       "      <td>0</td>\n",
       "    </tr>\n",
       "    <tr>\n",
       "      <th>2016-11-28</th>\n",
       "      <td>184.997937</td>\n",
       "      <td>185.271227</td>\n",
       "      <td>184.342012</td>\n",
       "      <td>184.515091</td>\n",
       "      <td>2193000</td>\n",
       "      <td>0.0</td>\n",
       "      <td>0</td>\n",
       "    </tr>\n",
       "  </tbody>\n",
       "</table>\n",
       "</div>"
      ],
      "text/plain": [
       "                  Open        High         Low       Close   Volume  \\\n",
       "Date                                                                  \n",
       "2016-11-21  183.339916  184.187145  183.212376  184.150711  2641300   \n",
       "2016-11-22  184.551524  184.688170  183.813612  184.487747  2773400   \n",
       "2016-11-23  184.150708  184.669988  183.813640  184.651764  1466300   \n",
       "2016-11-25  185.007089  185.389709  184.897772  185.389709  1843100   \n",
       "2016-11-28  184.997937  185.271227  184.342012  184.515091  2193000   \n",
       "\n",
       "            Dividends  Stock Splits  \n",
       "Date                                 \n",
       "2016-11-21        0.0             0  \n",
       "2016-11-22        0.0             0  \n",
       "2016-11-23        0.0             0  \n",
       "2016-11-25        0.0             0  \n",
       "2016-11-28        0.0             0  "
      ]
     },
     "execution_count": 13,
     "metadata": {},
     "output_type": "execute_result"
    }
   ],
   "source": [
    "voo_df.head()"
   ]
  },
  {
   "cell_type": "code",
   "execution_count": null,
   "id": "ad36feb2-a26c-4ec1-8802-c859ed026dcc",
   "metadata": {},
   "outputs": [],
   "source": []
  }
 ],
 "metadata": {
  "kernelspec": {
   "display_name": "Python 3",
   "language": "python",
   "name": "python3"
  },
  "language_info": {
   "codemirror_mode": {
    "name": "ipython",
    "version": 3
   },
   "file_extension": ".py",
   "mimetype": "text/x-python",
   "name": "python",
   "nbconvert_exporter": "python",
   "pygments_lexer": "ipython3",
   "version": "3.7.10"
  }
 },
 "nbformat": 4,
 "nbformat_minor": 5
}
